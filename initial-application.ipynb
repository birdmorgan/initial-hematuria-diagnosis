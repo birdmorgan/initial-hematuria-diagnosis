{
 "cells": [
  {
   "cell_type": "code",
   "execution_count": 264,
   "id": "0d16cfc4",
   "metadata": {},
   "outputs": [],
   "source": [
    "import warnings\n",
    "warnings.filterwarnings('ignore')"
   ]
  },
  {
   "cell_type": "code",
   "execution_count": 265,
   "id": "e7dedff6",
   "metadata": {},
   "outputs": [],
   "source": [
    "import ipywidgets as widgets"
   ]
  },
  {
   "cell_type": "code",
   "execution_count": 266,
   "id": "48170476",
   "metadata": {},
   "outputs": [],
   "source": [
    "from IPython.display import display, clear_output"
   ]
  },
  {
   "cell_type": "code",
   "execution_count": 267,
   "id": "8d5be2a5",
   "metadata": {},
   "outputs": [],
   "source": [
    "# !jupyter nbextension enable --py widgetsnbextension --sys-prefix\n",
    "# !jupyter serverextension enable voila --sys-prefix"
   ]
  },
  {
   "cell_type": "code",
   "execution_count": 268,
   "id": "4141cdea",
   "metadata": {},
   "outputs": [],
   "source": [
    "gender = widgets.Dropdown(\n",
    "    options=['Male', 'Female'],\n",
    "    value='Female',\n",
    "    description='Gender:',\n",
    "    disabled=False,\n",
    ")"
   ]
  },
  {
   "cell_type": "code",
   "execution_count": 269,
   "id": "39602a2b",
   "metadata": {},
   "outputs": [],
   "source": [
    "rbc = widgets.IntText(\n",
    "    description='RBC/HPF:',\n",
    "    disabled=False\n",
    ")"
   ]
  },
  {
   "cell_type": "code",
   "execution_count": 270,
   "id": "dc332803",
   "metadata": {},
   "outputs": [],
   "source": [
    "age = widgets.IntText(\n",
    "    description='Age:',\n",
    "    disabled=False, \n",
    "    value = 0\n",
    ")"
   ]
  },
  {
   "cell_type": "code",
   "execution_count": 271,
   "id": "304544dd",
   "metadata": {},
   "outputs": [],
   "source": [
    "smoking = widgets.IntText(\n",
    "    description='Years:',\n",
    "    disabled=False, \n",
    "    value = 0\n",
    ")"
   ]
  },
  {
   "cell_type": "code",
   "execution_count": 272,
   "id": "125424fb",
   "metadata": {},
   "outputs": [],
   "source": [
    "riskfactors = widgets.Dropdown(\n",
    "    options=['Yes', 'No'],\n",
    "    value='No',\n",
    "    description='Risk Factors:',\n",
    "    disabled=False,\n",
    ")"
   ]
  },
  {
   "cell_type": "code",
   "execution_count": 273,
   "id": "37739e69",
   "metadata": {},
   "outputs": [],
   "source": [
    "history = widgets.Dropdown(\n",
    "    options=['Yes', 'No'],\n",
    "    value='No',\n",
    "    description='History:',\n",
    "    disabled=False,\n",
    ")"
   ]
  },
  {
   "cell_type": "code",
   "execution_count": 274,
   "id": "89c31ad7",
   "metadata": {},
   "outputs": [],
   "source": [
    "prioreval = widgets.Dropdown(\n",
    "    options=['No', 'Yes, now with repeat positive urine', 'Yes, now with development of gross hematuria and/or increase in degree of microhematuria or new urologic symptoms'],\n",
    "    value='No',\n",
    "    description='History:',\n",
    "    disabled=False,\n",
    ")"
   ]
  },
  {
   "cell_type": "code",
   "execution_count": 275,
   "id": "707d9f46",
   "metadata": {},
   "outputs": [],
   "source": [
    "button_send = widgets.Button(\n",
    "                description='Generate Evaluation',\n",
    "                tooltip='Send',\n",
    "                style={'description_width': 'initial'}\n",
    "            )\n",
    "\n",
    "output = widgets.Output()\n",
    "\n",
    "def on_button_clicked(event):\n",
    "    with output:\n",
    "        clear_output()\n",
    "        print('Recommended Evaluation:')\n",
    "        if prioreval.value == 'Yes, now with repeat positive urine':\n",
    "            print('Shared decision-making regarding repeat evaluation vs. observation')\n",
    "            print('consider cross-sectional imaging with urography or retrograde pyelograms if not performed previously')\n",
    "        \n",
    "        elif prioreval.value == 'Yes, now with development of gross hematuria and/or increase in degree of microhematuria or new urologic symptoms':\n",
    "            print('Repeat cystoscopy and CT urogram')\n",
    "        \n",
    "        elif (((gender.value == 'Female' and age.value < 50)\n",
    "        or gender.value == 'Male' and age.value < 40)\n",
    "        and smoking.value < 10\n",
    "        and rbc.value >= 3 and rbc.value <= 10\n",
    "        and riskfactors.value == 'No'\n",
    "        and history.value == 'No'):\n",
    "            print('Repeat Urinalysis Within 5 Months Or Cystoscopy And Renal Ultrasound')\n",
    "        \n",
    "        elif ((gender.value == 'Female' and age.value >= 50 and age.value <= 59)\n",
    "        or (gender.value == 'Male' and age.value >= 40 and age.value <= 59)\n",
    "        or (smoking.value >= 10 and smoking.value <= 30)\n",
    "        or (rbc.value >= 11 and rbc.value <= 25)\n",
    "        or riskfactors.value == 'Yes'\n",
    "        or (prioreval.value == 'No' and rbc.value >= 3 and rbc.value <= 25)):\n",
    "            print('Cystoscopy and Renal Ultrasound')\n",
    "        \n",
    "        elif (age.value > 60\n",
    "        or smoking.value > 30\n",
    "        or rbc.value > 25\n",
    "        or history.value == 'Yes'\n",
    "        or (prioreval.value == 'No' and rbc.value > 25)):\n",
    "            print('Cystoscopy and CT Urogram')\n",
    "        \n",
    "        else:\n",
    "            print('Check Form Inputs')\n",
    "button_send.on_click(on_button_clicked)\n",
    "vbox_result = widgets.VBox([button_send, output])"
   ]
  },
  {
   "cell_type": "code",
   "execution_count": 276,
   "id": "b589fc1e",
   "metadata": {},
   "outputs": [],
   "source": [
    "text_0 = widgets.HTML(value = '<h1>Testing: Initial Microscopic Hematuria Evaluation</h1>')\n",
    "text_1 = widgets.HTML(value = '<h4>How many RBC/HPF in urine (Input the number)</h4>')\n",
    "text_2 = widgets.HTML(value = '<h4>Select Gender</h4>')\n",
    "text_3 = widgets.HTML(value = '<h4>Enter Age (Input number of years)</h4>')\n",
    "text_4 = widgets.HTML(value = '<h4>How many pack years of smoking (Input number of years)</h4>')\n",
    "text_5a = widgets.HTML(value = '<h4>Are any risk factors present?</h4>')\n",
    "text_5b = widgets.HTML(value = '<h6>These may include: Irritative LUTS not associated with UTI, history of cyclophosphamide or ifosfamide chemotherapy, family history of urothelial cancer (including Lynch Syndrome), exposure to benzenes or aromatic amines, or history chronic indwelling foreign body</h6>')\n",
    "text_6 = widgets.HTML(value = '<h4>History of Gross Hematuria?</h4>')\n",
    "text_7 = widgets.HTML(value = '<h4>Prior evaluation for microscopic hematuria </h4>')"
   ]
  },
  {
   "cell_type": "code",
   "execution_count": 277,
   "id": "125058ff",
   "metadata": {},
   "outputs": [],
   "source": [
    "vbox_text = widgets.VBox([text_0, text_1, rbc, text_2, gender, text_3, age, text_4, smoking, text_5a, text_5b, riskfactors, text_6, history, text_7, prioreval, vbox_result])"
   ]
  },
  {
   "cell_type": "code",
   "execution_count": 278,
   "id": "77036442",
   "metadata": {
    "scrolled": true
   },
   "outputs": [
    {
     "data": {
      "application/vnd.jupyter.widget-view+json": {
       "model_id": "12b21bc806c2429f85cebcc4b4a63a3b",
       "version_major": 2,
       "version_minor": 0
      },
      "text/plain": [
       "HBox(children=(VBox(children=(HTML(value='<h1>Testing: Initial Microscopic Hematuria Evaluation</h1>'), HTML(v…"
      ]
     },
     "metadata": {},
     "output_type": "display_data"
    }
   ],
   "source": [
    "page = widgets.HBox([vbox_text])\n",
    "display(page)"
   ]
  },
  {
   "cell_type": "code",
   "execution_count": 279,
   "id": "cc94a2fa",
   "metadata": {},
   "outputs": [],
   "source": []
  },
  {
   "cell_type": "code",
   "execution_count": null,
   "id": "31ebb15e",
   "metadata": {},
   "outputs": [],
   "source": []
  }
 ],
 "metadata": {
  "kernelspec": {
   "display_name": "Python 3 (ipykernel)",
   "language": "python",
   "name": "python3"
  },
  "language_info": {
   "codemirror_mode": {
    "name": "ipython",
    "version": 3
   },
   "file_extension": ".py",
   "mimetype": "text/x-python",
   "name": "python",
   "nbconvert_exporter": "python",
   "pygments_lexer": "ipython3",
   "version": "3.10.10"
  }
 },
 "nbformat": 4,
 "nbformat_minor": 5
}
